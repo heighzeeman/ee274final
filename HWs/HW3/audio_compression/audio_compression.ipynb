{
 "cells": [
  {
   "cell_type": "code",
   "execution_count": 1,
   "metadata": {
    "id": "oVkub0STh-gg"
   },
   "outputs": [],
   "source": [
    "import numpy as np\n",
    "import scipy\n",
    "import scipy.fft\n",
    "import soundfile as sf\n",
    "import matplotlib.pyplot as plt\n",
    "import seaborn as sns\n",
    "import pandas as pd"
   ]
  },
  {
   "cell_type": "code",
   "execution_count": 2,
   "metadata": {
    "id": "YEvMWo0LiJFA"
   },
   "outputs": [],
   "source": [
    "def quantize(A, nlevels):\n",
    "    \"\"\"\n",
    "    Quantize array A to nlevels.\n",
    "    \n",
    "    Returns the quantized values and the quantization limits.\n",
    "    \"\"\"\n",
    "    smallest = np.min(A)\n",
    "    largest = np.max(A)\n",
    "    bins = np.linspace(smallest, largest, nlevels+1)\n",
    "    bins[-1] = np.nextafter(bins[-1], np.infty)\n",
    "    return np.digitize(A, bins), (smallest, largest)\n",
    "\n",
    "def unquantize(Q, nlevels, limits):\n",
    "    \"\"\"\n",
    "    Decoder of quantize. Takes as input the quantized output, the\n",
    "    number of levels and the quantization limits.\n",
    "    \n",
    "    Returns the unquantized array.\n",
    "    \"\"\"\n",
    "    smallest, largest = limits\n",
    "    bins = np.linspace(smallest, largest, nlevels+1)\n",
    "    vals = (bins[1:]+bins[:-1]) / 2\n",
    "    return vals[Q-1]\n",
    "\n",
    "def dct(arr, sr):\n",
    "    '''\n",
    "    compute dct, return the frequencies (computing using the sample rate) and the dct\n",
    "    '''\n",
    "    return np.arange(len(arr))*sr/2/len(arr), scipy.fft.dct(arr, norm='ortho')\n",
    "\n",
    "def idct(dct_arr):\n",
    "    '''\n",
    "    inverse dct\n",
    "    '''\n",
    "    return scipy.fft.idct(dct_arr,norm='ortho')\n",
    "\n",
    "def lowpass_dct(dct_arr, dct_freqs, frequency_cutoff):\n",
    "    \"\"\"\n",
    "    Apply lowpass filter on the dct array. Sets the frequencies above a cutoff to zero.\n",
    "    Takes as input the dct array and the dct frequencies returned by the dct function above,\n",
    "    and the frequency cutoff.\n",
    "    \n",
    "    Returns the lowpass filtered dct array (after truncating the zeroed out part).\n",
    "    \"\"\"\n",
    "    # find index where frequency exceeds cutoff\n",
    "    if frequency_cutoff is None:\n",
    "        cutoff_index = len(dct_freqs)\n",
    "    else:\n",
    "        cutoff_index = np.where(dct_freqs > frequency_cutoff)[0]\n",
    "        if len(cutoff_index) == 0:\n",
    "            cutoff_index = len(dct_freqs)\n",
    "        else:\n",
    "            cutoff_index = cutoff_index[0]\n",
    "    \n",
    "    # apply cutoff\n",
    "    dct_arr = dct_arr[:cutoff_index]\n",
    "\n",
    "    return dct_arr\n",
    "\n",
    "def inv_lowpass_dct(lowpassed_dct_arr, dct_arr_size):\n",
    "    \"\"\"\n",
    "    Decoder of lowpass_dct, simply sets the higher frequencies to zero.\n",
    "    \"\"\"\n",
    "    dct_arr = np.zeros(dct_arr_size)\n",
    "    dct_arr[:len(lowpassed_dct_arr)] = lowpassed_dct_arr\n",
    "    return dct_arr\n",
    "\n",
    "def compute_mse(original, reconstruction):\n",
    "    \"\"\"\n",
    "    Compute the mean square error.\n",
    "    \"\"\"\n",
    "    return ((original - reconstruction)**2).mean()\n",
    "\n",
    "def load_wav_audio(filepath):\n",
    "    '''\n",
    "    load wav audio as float np array and return the array and the sample rate\n",
    "    Checks that audio is mono\n",
    "    '''\n",
    "    audio_arr, audio_sr = sf.read(filepath)\n",
    "    assert len(audio_arr.shape) == 1 # mono\n",
    "    return audio_arr, audio_sr\n",
    "    \n",
    "def save_wav_audio(filepath, audio_arr, audio_sr):\n",
    "    '''\n",
    "    save wav audio to file\n",
    "    '''\n",
    "    sf.write(filepath,audio_arr,audio_sr)\n",
    "\n",
    "def compute_entropy(quantized_arr):\n",
    "    \"\"\"Compute empirical entropy for quantized_arr\n",
    "    \"\"\"\n",
    "    return scipy.stats.entropy(np.bincount(quantized_arr))\n",
    "    \n",
    "def evaluate_dct_lowpass_quantization(audio_arr, audio_sr, frequency_cutoff, n_quantization_levels):\n",
    "    \"\"\"\n",
    "    Evaluate quantization of lowpassed dct.\n",
    "    Returns:\n",
    "            reconstructed audio array\n",
    "            compression rate (kilobits per second)\n",
    "            mean square error\n",
    "    \"\"\"\n",
    "    # compute dct\n",
    "    dct_freqs, dct_arr = dct(audio_arr, audio_sr)\n",
    "    # lowpass\n",
    "    lowpassed_dct = lowpass_dct(dct_arr, dct_freqs, frequency_cutoff)\n",
    "    # quantize\n",
    "    quantized_lowpassed_dct, limits = quantize(lowpassed_dct, n_quantization_levels)\n",
    "    # now perform the decoding steps\n",
    "    reconstructed_lowpassed_dct = unquantize(quantized_lowpassed_dct, n_quantization_levels, limits)\n",
    "    reconstructed_dct_arr = inv_lowpass_dct(reconstructed_lowpassed_dct, len(dct_arr))\n",
    "    reconstructed_audio_arr = idct(reconstructed_dct_arr)\n",
    "    \n",
    "    entropy = compute_entropy(quantized_lowpassed_dct)\n",
    "    bitrate_kbps = entropy*len(quantized_lowpassed_dct)/len(audio_arr)*audio_sr/1000\n",
    "    mse = compute_mse(audio_arr, reconstructed_audio_arr)\n",
    "    return reconstructed_audio_arr, bitrate_kbps, mse"
   ]
  },
  {
   "cell_type": "markdown",
   "metadata": {},
   "source": [
    "### Simple audio compressor\n",
    "\n",
    "We work with a simple audio compressor that first computes the DCT of the entire audio signal at once, then filters out (sets to zero) all frequencies above a cutoff (parameter: `frequency_cutoff`). The remaining DCT values are then uniform scalar quantized into a certain number of levels (parameter: `n_quantization_levels`). Finally we simply compute the empirical entropy of the quantized truncated DCT to get an estimate of the compression rate when we apply Huffman coding or 0th order arithmetic coding. \n",
    "\n",
    "The function `evaluate_dct_lowpass_quantization` returns the reconstructed audio, the compressed bitrate (in kilobits per second) and the mean square error distortion."
   ]
  },
  {
   "cell_type": "markdown",
   "metadata": {},
   "source": [
    "### Q1\n",
    "\n",
    "How do you expect the bitrate and the mse distortion to behave (i.e., whether they increase/decrease) when:\n",
    "1. the frequency cutoff increases\n",
    "2. the number of quantization levels increase"
   ]
  },
  {
   "cell_type": "markdown",
   "metadata": {},
   "source": [
    "### Computing the DCT\n",
    "In the next cell we load an audio file and compute its DCT. We plot the DCT energy (i.e., squared value) vs. the frequency)."
   ]
  },
  {
   "cell_type": "code",
   "execution_count": 3,
   "metadata": {},
   "outputs": [
    {
     "data": {
      "text/plain": [
       "Text(0, 0.5, 'energy')"
      ]
     },
     "execution_count": 3,
     "metadata": {},
     "output_type": "execute_result"
    },
    {
     "data": {
      "image/png": "[encoded data removed]",
      "text/plain": [
       "<Figure size 720x576 with 1 Axes>"
      ]
     },
     "metadata": {
      "needs_background": "light"
     },
     "output_type": "display_data"
    }
   ],
   "source": [
    "audio_arr, audio_sr = load_wav_audio(\"original.wav\")\n",
    "dct_freqs, dct_arr = dct(audio_arr, audio_sr)\n",
    "\n",
    "plt.figure(figsize=(10,8))\n",
    "plt.plot(dct_freqs, dct_arr**2)\n",
    "plt.yscale('log')\n",
    "plt.xlabel('frequency (Hz)')\n",
    "plt.ylabel('energy')"
   ]
  },
  {
   "cell_type": "markdown",
   "metadata": {},
   "source": [
    "### Q2\n",
    "Based on the DCT plot above, suggest why we often filter out the higher frequencies for typical audio files, as opposed to filtering out the lower frequencies? Do you see a natural cutoff threshold in the plot above?"
   ]
  },
  {
   "cell_type": "markdown",
   "metadata": {},
   "source": [
    "### Q3\n",
    "Next, we study the reconstructions produced when we set `frequency_cutoff` to very low values or set `n_quantization_levels` to very low values. Listen to `original.wav`, `reconstruction_1.wav` (with very low frequency cutoff) and `reconstruction_2.wav` (with very low number of quantization levels). Describe how the reconstructions sound and explain why based on your understanding of the lossy compression procedure. The last 10 seconds of the audio include higher pitched singing which might be handy to listen to."
   ]
  },
  {
   "cell_type": "code",
   "execution_count": 4,
   "metadata": {},
   "outputs": [],
   "source": [
    "reconstructed_audio, bitrate_kpbs, mse = \\\n",
    "    evaluate_dct_lowpass_quantization(audio_arr, audio_sr, frequency_cutoff=1000, n_quantization_levels=2048)\n",
    "save_wav_audio(\"reconstruction_1.wav\", reconstructed_audio, audio_sr)"
   ]
  },
  {
   "cell_type": "code",
   "execution_count": 5,
   "metadata": {},
   "outputs": [],
   "source": [
    "reconstructed_audio, bitrate_kpbs, mse = \\\n",
    "    evaluate_dct_lowpass_quantization(audio_arr, audio_sr, frequency_cutoff=20000, n_quantization_levels=128)\n",
    "save_wav_audio(\"reconstruction_2.wav\", reconstructed_audio, audio_sr)"
   ]
  },
  {
   "cell_type": "markdown",
   "metadata": {},
   "source": [
    "### Rate-distortion curve\n",
    "Now we do a sweep of frequency cutoffs and number of quantization levels to get the rate distortion curve achieved by this simple procedure (note that the true optimal R-D curve will lie below)."
   ]
  },
  {
   "cell_type": "code",
   "execution_count": 6,
   "metadata": {
    "colab": {
     "base_uri": "https://localhost:8080/"
    },
    "id": "EH8QfltZDOcg",
    "outputId": "6ecc9844-04ad-4f9d-c00b-d07c4f7cbbbd"
   },
   "outputs": [],
   "source": [
    "df = {'bitrate_kbps': [], 'mse': [], 'frequency_cutoff': [], 'n_quantization_levels': []}\n",
    "\n",
    "for frequency_cutoff in [2000, 4000, 8000, 14000, 20000]:\n",
    "    for n_quantization_levels in [256, 512, 1024, 2048, 4096]:\n",
    "        quantized_lowpassed_dct, bitrate_kpbs, mse = evaluate_dct_lowpass_quantization(audio_arr, audio_sr, frequency_cutoff=frequency_cutoff, n_quantization_levels=n_quantization_levels)\n",
    "        df['bitrate_kbps'].append(bitrate_kpbs)\n",
    "        df['mse'].append(mse)\n",
    "        df['frequency_cutoff'].append(frequency_cutoff)\n",
    "        df['n_quantization_levels'].append(n_quantization_levels)\n",
    "df = pd.DataFrame(df)"
   ]
  },
  {
   "cell_type": "code",
   "execution_count": 7,
   "metadata": {},
   "outputs": [
    {
     "data": {
      "image/png": "[encoded data removed]",
      "text/plain": [
       "<Figure size 720x432 with 1 Axes>"
      ]
     },
     "metadata": {
      "needs_background": "light"
     },
     "output_type": "display_data"
    }
   ],
   "source": [
    "plt.figure(figsize=(10,6))\n",
    "splot = sns.scatterplot(df, x=\"bitrate_kbps\", y=\"mse\", style=\"n_quantization_levels\", hue=\"frequency_cutoff\", palette=\"tab10\")\n",
    "splot.set(yscale=\"log\")\n",
    "plt.grid()"
   ]
  },
  {
   "cell_type": "markdown",
   "metadata": {},
   "source": [
    "### Q4\n",
    "Based on the plot above, which parameter (`frequency_cutoff` vs. `n_quantization_levels`) should you tweak to stay on the pareto optimal rate-distortion tradeoff in:\n",
    "1. low bitrate regime (around 10-30 kpbs)\n",
    "2. high bitrate regime (around 60-100 kbps)\n",
    "\n",
    "More generally, whenever we have multiple parameters controlling the rate-distortion tradeoff, we might need to suitably tweak one of them to stay on the optimal curve around any given bitrate. We'll talk about this in the context of videos, and you can read more at https://netflixtechblog.com/per-title-encode-optimization-7e99442b62a2."
   ]
  },
  {
   "cell_type": "markdown",
   "metadata": {},
   "source": [
    "----\n",
    "Your friend who is new to audio compression decides to try something simpler. Instead of working in the transform domain, they decide to simply quantize the original audio signal. "
   ]
  },
  {
   "cell_type": "code",
   "execution_count": 8,
   "metadata": {},
   "outputs": [
    {
     "data": {
      "image/png": "[encoded data removed]",
      "text/plain": [
       "<Figure size 720x432 with 1 Axes>"
      ]
     },
     "metadata": {
      "needs_background": "light"
     },
     "output_type": "display_data"
    }
   ],
   "source": [
    "def evaluate_direct_quantization(audio_arr, audio_sr, n_quantization_levels):\n",
    "    quantized_original_audio, limits = quantize(audio_arr, n_quantization_levels)\n",
    "    reconstructed_audio_arr = unquantize(quantized_original_audio, n_quantization_levels, limits)\n",
    "    entropy = compute_entropy(quantized_original_audio)\n",
    "    bitrate_kbps = entropy*len(quantized_original_audio)/len(audio_arr)*audio_sr/1000\n",
    "    mse = compute_mse(audio_arr, reconstructed_audio_arr)\n",
    "    return reconstructed_audio_arr, bitrate_kbps, mse\n",
    "\n",
    "df = {'bitrate_kbps': [], 'mse': [], 'n_quantization_levels': []}\n",
    "\n",
    "for n_quantization_levels in [2, 4, 8, 16, 32, 64, 128]:\n",
    "    quantized_lowpassed_dct, bitrate_kpbs, mse = evaluate_direct_quantization(audio_arr, audio_sr, n_quantization_levels=n_quantization_levels)\n",
    "    df['bitrate_kbps'].append(bitrate_kpbs)\n",
    "    df['mse'].append(mse)\n",
    "    df['n_quantization_levels'].append(n_quantization_levels)\n",
    "df = pd.DataFrame(df)\n",
    "\n",
    "plt.figure(figsize=(10,6))\n",
    "splot = sns.scatterplot(df, x=\"bitrate_kbps\", y=\"mse\", style=\"n_quantization_levels\")\n",
    "splot.set(yscale=\"log\")\n",
    "plt.grid()"
   ]
  },
  {
   "cell_type": "markdown",
   "metadata": {},
   "source": [
    "### Q5\n",
    "Look at the rate distortion plot above. How does the simpler strategy compare to the transform domain based compressor? Explain why one strategy outperforms the other. You can also listen to two reconstructions below (`reconstruction_3.wav` and `reconstruction_4.wav`) with similar MSE to get a sense of the reconstruction quality."
   ]
  },
  {
   "cell_type": "code",
   "execution_count": 9,
   "metadata": {},
   "outputs": [
    {
     "name": "stdout",
     "output_type": "stream",
     "text": [
      "reconstruction_3.wav with evaluate_dct_lowpass_quantization\n",
      "mse: 0.0012973882550256545\n",
      "bitrate_kpbs: 48.88585046547497\n",
      "\n",
      "reconstruction_4.wav with evaluate_direct_quantization\n",
      "mse: 0.001282661590379548\n",
      "bitrate_kpbs: 98.52557737072262\n"
     ]
    }
   ],
   "source": [
    "reconstructed_audio, bitrate_kpbs, mse = \\\n",
    "    evaluate_dct_lowpass_quantization(audio_arr, audio_sr, frequency_cutoff=14000, n_quantization_levels=512)\n",
    "save_wav_audio(\"reconstruction_3.wav\", reconstructed_audio, audio_sr)\n",
    "print(\"reconstruction_3.wav with evaluate_dct_lowpass_quantization\")\n",
    "print(f\"mse: {mse}\")\n",
    "print(f\"bitrate_kpbs: {bitrate_kpbs}\")\n",
    "\n",
    "print()\n",
    "reconstructed_audio, bitrate_kpbs, mse = \\\n",
    "    evaluate_direct_quantization(audio_arr, audio_sr, n_quantization_levels=16)\n",
    "save_wav_audio(\"reconstruction_4.wav\", reconstructed_audio, audio_sr)\n",
    "print(\"reconstruction_4.wav with evaluate_direct_quantization\")\n",
    "print(f\"mse: {mse}\")\n",
    "print(f\"bitrate_kpbs: {bitrate_kpbs}\")"
   ]
  },
  {
   "cell_type": "markdown",
   "metadata": {},
   "source": [
    "### Q6\n",
    "Compare `reconstruction_3.wav` with `reconstruction_48kbps.mp3` which have the same bitrate. You should observe that the mp3 has better quality. Can you suggest at least 2 inefficiencies in our simplistic transform-based codec, and explain how these can be improved upon? As a hint you can read again the description of the method pasted below with certain portions highlighted.\n",
    "\n",
    "> We work with a simple audio compressor that first computes the DCT **of the entire audio signal at once**, then filters out (**sets to zero**) all frequencies above a cutoff (parameter: `frequency_cutoff`). The remaining DCT values are then **uniform scalar quantized** into a certain number of levels (parameter: `n_quantization_levels`). Finally we simply compute the empirical entropy of the quantized truncated DCT to get an estimate of the compression rate when we apply Huffman coding or **0th order** arithmetic coding. \n"
   ]
  }
 ],
 "metadata": {
  "colab": {
   "collapsed_sections": [],
   "provenance": []
  },
  "kernelspec": {
   "display_name": "ee274_env",
   "language": "python",
   "name": "ee274_env"
  },
  "language_info": {
   "codemirror_mode": {
    "name": "ipython",
    "version": 3
   },
   "file_extension": ".py",
   "mimetype": "text/x-python",
   "name": "python",
   "nbconvert_exporter": "python",
   "pygments_lexer": "ipython3",
   "version": "3.9.12"
  }
 },
 "nbformat": 4,
 "nbformat_minor": 4
}
